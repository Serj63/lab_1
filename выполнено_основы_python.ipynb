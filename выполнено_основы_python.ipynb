{
 "nbformat": 4,
 "nbformat_minor": 0,
 "metadata": {
  "colab": {
   "provenance": []
  },
  "kernelspec": {
   "name": "python3",
   "display_name": "Python 3 (ipykernel)",
   "language": "python"
  },
  "language_info": {
   "name": "python"
  }
 },
 "cells": [
  {
   "cell_type": "markdown",
   "source": [
    "# Задача 1\n",
    "Написать функцию на вход которой подается строка, состоящая из латинских букв.\n",
    "Функция должна вернуть количество гласных букв (a, e, i, o, u) в этой строке. Написать тесты для кода"
   ],
   "metadata": {
    "id": "M-DGa20PaHnu"
   }
  },
  {
   "cell_type": "code",
   "source": [
    "# Your code goes here\n",
    "def count_vowels(input_data):\n",
    "    vowels_list = ['a', 'e', 'i', 'o', 'u']\n",
    "    vowels = 0\n",
    "    for char in input_data:\n",
    "        if char in vowels_list:\n",
    "            vowels += 1\n",
    "    return vowels\n",
    "\n",
    "\n",
    "def func_test():\n",
    "    assert count_vowels('1234567890!@#$%^&*()') == 0\n",
    "    assert count_vowels('') == 0\n",
    "    assert count_vowels('a') == 1\n",
    "    assert count_vowels('b') == 0\n",
    "    assert count_vowels('ab') == 1\n",
    "    assert count_vowels('a a') == 2\n",
    "    assert count_vowels('b b') == 0\n",
    "    assert count_vowels('a b') == 1\n",
    "    assert count_vowels('b a') == 1\n",
    "    assert count_vowels('a e') == 2\n",
    "    assert count_vowels('e a') == 2\n",
    "    assert count_vowels('abc ebc') == 2\n",
    "    assert count_vowels('bcd ibc') == 1\n",
    "    assert count_vowels('obc bcd') == 1\n",
    "    assert count_vowels('uuu') == 3\n",
    "    assert count_vowels('aieouaieouaieou aieouaieouaieou aieouaieouaieou') == 45\n"
   ],
   "metadata": {
    "id": "XvX8X_JJ6PCb",
    "ExecuteTime": {
     "end_time": "2025-10-28T10:30:20.602283Z",
     "start_time": "2025-10-28T10:30:20.597872Z"
    }
   },
   "outputs": [],
   "execution_count": 4
  },
  {
   "cell_type": "markdown",
   "source": [
    "# Задача 2\n",
    "Написать функцию на вход, которой подается строка. Функция должна вернуть true, если\n",
    "каждый символ в строке встречается только 1 раз, иначе должна вернуть false. Написать тесты для кода"
   ],
   "metadata": {
    "id": "t2ClV_Y0bbr6"
   }
  },
  {
   "cell_type": "code",
   "source": [
    "# Your code goes here\n",
    "def is_list_from_uniq_chars(input_data):\n",
    "    if len(input_data) == 0:\n",
    "        return True\n",
    "    for i in range(len(input_data) - 1):\n",
    "        if input_data[i] in input_data[i+1:]:\n",
    "            return False\n",
    "        i += 1\n",
    "    else:\n",
    "        return True\n",
    "\n",
    "\n",
    "def func_test():\n",
    "    assert is_list_from_uniq_chars('') == True\n",
    "    assert is_list_from_uniq_chars('12345678901234567890') == False\n",
    "    assert is_list_from_uniq_chars('aa') == False\n",
    "    assert is_list_from_uniq_chars('abcdefghijlklmnopqrstuvwxyza') == False\n",
    "    assert is_list_from_uniq_chars('aabcdefghijlklmnopqrstuvwxyz') == False\n",
    "    assert is_list_from_uniq_chars('bcdefghijlklmnopqrstuvwxyzz') == False\n",
    "    assert is_list_from_uniq_chars('1234567890') == True\n",
    "    assert is_list_from_uniq_chars('abcdefghijklmnopqrstuvwxyz') == True\n",
    "    assert is_list_from_uniq_chars('ABCDEFGHIJKLMNOPQRSTUVWXYZ') == True\n",
    "    assert is_list_from_uniq_chars('1234567890abcdefghijklmnopqrstuvwxyzABCDEFGHIJKLMNOPQRSTUVWXYZ') == True\n",
    "    assert is_list_from_uniq_chars('a') == True\n",
    "    assert is_list_from_uniq_chars('aA') == True\n"
   ],
   "metadata": {
    "id": "FppbECao6VIz",
    "ExecuteTime": {
     "end_time": "2025-10-28T10:30:20.616882Z",
     "start_time": "2025-10-28T10:30:20.612743Z"
    }
   },
   "outputs": [],
   "execution_count": 5
  },
  {
   "cell_type": "markdown",
   "source": [
    "# Задача 3\n",
    "Написать функцию, которая принимает положительное число и возвращает количество\n",
    "бит равных 1 в этом числе. Написать тесты для кода"
   ],
   "metadata": {
    "id": "udRiIK1cdt6E"
   }
  },
  {
   "cell_type": "code",
   "source": [
    "# Your code goes here\n",
    "def bit_counter(input_data):\n",
    "    if not isinstance(input_data, int):\n",
    "        raise TypeError('Input data must be an integer.')\n",
    "    if input_data < 0:\n",
    "        raise ValueError('Input data must be non-negative.')\n",
    "    number = input_data\n",
    "    binary_value = bin(number)\n",
    "    counter = 0\n",
    "    for bit in binary_value[2:]:\n",
    "        if bit == '1':\n",
    "            counter += 1\n",
    "    return counter\n",
    "\n",
    "\n",
    "def func_test():\n",
    "    assert bit_counter(0) == 0\n",
    "    assert bit_counter(1) == 1\n",
    "    assert bit_counter(2) == 1\n",
    "    assert bit_counter(3) == 2\n",
    "    assert bit_counter(4) == 1\n",
    "    assert bit_counter(100)== 3\n",
    "    assert bit_counter(101)== 4\n",
    "    assert bit_counter(102)== 4\n",
    "    assert bit_counter(103)== 5\n",
    "    assert bit_counter(104)== 3\n",
    "    assert bit_counter(1000)== 6\n",
    "    assert bit_counter(1001)== 7\n",
    "    assert bit_counter(1002)== 7\n",
    "    assert bit_counter(1003)== 8\n",
    "    assert bit_counter(1004)== 7\n"
   ],
   "metadata": {
    "id": "6tkfDJRz6dp_",
    "ExecuteTime": {
     "end_time": "2025-10-28T10:30:20.624431Z",
     "start_time": "2025-10-28T10:30:20.616882Z"
    }
   },
   "outputs": [],
   "execution_count": 6
  },
  {
   "cell_type": "markdown",
   "source": [
    "# Задача 4\n",
    "Написать функцию, которая принимает положительное число. Функция должна вернуть то,\n",
    "сколько раз необходимо перемножать цифры числа или результат перемножения, чтобы\n",
    "получилось число состоящее из одной цифры.\n",
    "Например, для входного числа:\n",
    "· 39 функция должна вернуть 3, так как 3*9=27 => 2*7=14 => 1*4=4\n",
    "· 4 функция должна вернуть 0, так как число уже состоит из одной цифры\n",
    "· 999 функция должна вернуть 4, так как 9*9*9=729 => 7*2*9=126 => 1*2*6=12 =>\n",
    "1*2=2. Написать тесты для кода"
   ],
   "metadata": {
    "id": "26dDUz-Ae17N"
   }
  },
  {
   "cell_type": "code",
   "source": [
    "def magic(num):\n",
    "    if not isinstance(num, int):\n",
    "        raise TypeError('Input data must be an integer.')\n",
    "    if num < 0:\n",
    "        raise ValueError('Input data must be non-negative.')\n",
    "    counter = 0\n",
    "    if int(num) < 10:\n",
    "        return 0\n",
    "    else:\n",
    "        new_value = 1\n",
    "        for i in list(str(num)):\n",
    "            new_value *= int(i)\n",
    "            num = new_value\n",
    "        counter += 1\n",
    "        return counter + magic(num)\n",
    "\n",
    "\n",
    "def func_test():\n",
    "    assert magic(0) == 0\n",
    "    assert magic(9) == 0\n",
    "    assert magic(10) == 1\n",
    "    assert magic(99) == 2\n",
    "    assert magic(101) == 1\n",
    "    assert magic(999) == 4\n",
    "    assert magic(111111) == 1\n"
   ],
   "metadata": {
    "id": "BH1A_Mgi6i4G",
    "ExecuteTime": {
     "end_time": "2025-10-28T10:30:20.631504Z",
     "start_time": "2025-10-28T10:30:20.624431Z"
    }
   },
   "outputs": [],
   "execution_count": 7
  },
  {
   "cell_type": "markdown",
   "source": [
    "# Задача 5\n",
    "Написать функцию, которая принимает два целочисленных вектора одинаковой длины и\n",
    "возвращает среднеквадратическое отклонение двух векторов. Написать тесты для кода"
   ],
   "metadata": {
    "id": "0nS-kIa8g8vd"
   }
  },
  {
   "cell_type": "code",
   "source": [
    "def mse(pred, true):\n",
    "    if len(pred) != len(true):\n",
    "        raise ValueError('Vectors should have same length.')\n",
    "    else:\n",
    "        length = len(pred)\n",
    "    summ = 0\n",
    "    for i in range(length):\n",
    "        summ += (pred[i] - true[i]) ** 2\n",
    "    return (summ / length) ** 0.5\n",
    "\n",
    "\n",
    "def func_test():\n",
    "    assert mse([1, 2, 3], [1, 2, 3]) == 0.0\n",
    "    assert mse([1, 2, 3], [2, 3, 4]) == 1.0\n",
    "    assert mse([1, 2, 3], [4, 5, 6]) == 9.0\n",
    "    assert mse([5], [8]) == 9.0\n",
    "    assert mse([-2, 0], [1, -3]) == 9.0\n",
    "    assert mse([1000, 2000], [1005, 1995]) == 25.0\n",
    "    assert mse([0, 0, 0], [0, 0, 0]) == 0.0\n",
    "    assert mse([10, 20, 30], [8, 25, 28]) == 11.0\n"
   ],
   "metadata": {
    "id": "8iphx4LM6xbx",
    "ExecuteTime": {
     "end_time": "2025-10-28T10:30:20.639197Z",
     "start_time": "2025-10-28T10:30:20.631504Z"
    }
   },
   "outputs": [],
   "execution_count": 8
  },
  {
   "metadata": {},
   "cell_type": "markdown",
   "source": [
    "# Задача 6\n",
    "Написать функцию, принимающая целое положительное число. Функция должна вернуть\n",
    "строку вида “(n1**p1)(n2**p2)…(nk**pk)” представляющая разложение числа на простые\n",
    "множители (если pi == 1, то выводить только ni).\n",
    "Например, для числа 86240 функция должна вернуть “(2\\**5)(5)(7**2)(11)”. Написать тесты для кода"
   ]
  },
  {
   "metadata": {
    "ExecuteTime": {
     "end_time": "2025-10-28T10:30:20.649213Z",
     "start_time": "2025-10-28T10:30:20.639197Z"
    }
   },
   "cell_type": "code",
   "source": [
    "# Your code goes here\n",
    "def find_prime_factors_count(input_number):\n",
    "    counter = 0\n",
    "    result = []\n",
    "    res_num = input_number\n",
    "    prime_list = create_prime_list(input_number)\n",
    "    for i in range(len(prime_list)):\n",
    "        res_i = prime_list[i]\n",
    "        while res_num % prime_list[i] == 0:\n",
    "            counter += 1\n",
    "            res_num /= prime_list[i]\n",
    "        else:\n",
    "            temp_res = (prime_list[i], counter)\n",
    "            if counter != 0:\n",
    "                result.append(temp_res)\n",
    "                counter = 0\n",
    "    if input_number == 1:\n",
    "        result = [(1,1)]\n",
    "    return result\n",
    "\n",
    "#Создаёт список всех простых чисел до указанного числа, не включая 1.\n",
    "def create_prime_list(input_number):\n",
    "    num = input_number\n",
    "    num_list = []\n",
    "    if num > 1:\n",
    "        for i in range(2, num + 1):\n",
    "            num_list.append(i)\n",
    "    for i in range(len(num_list)):\n",
    "        for j in range(len(num_list) - 1, i, -1):\n",
    "            if num_list[j] % num_list[i] == 0:\n",
    "                num_list.pop(j)\n",
    "    return num_list\n",
    "\n",
    "\n",
    "def print_result(input_number):\n",
    "    for i in input_number:\n",
    "        if i[1] == 1:\n",
    "            print(f'({i[0]})', end='')\n",
    "            continue\n",
    "        print(f'({i[0]}**{i[1]})', end='')\n",
    "\n",
    "\n",
    "def test_print_result():\n",
    "    assert print_result([(2, 1), (3, 1), (5, 1)]) == '(2)(3)(5)'\n",
    "    assert print_result([(2, 3)]) == '(2**3)'\n",
    "    assert print_result([(2, 2), (5, 2)]) == '(2**2)(5**2)'\n",
    "\n",
    "\n",
    "def test_create_prime_list():\n",
    "    assert create_prime_list(1) == [2, 3]\n",
    "    assert create_prime_list(5) == [2, 3, 5]\n",
    "    assert create_prime_list(10) == [2, 3, 5, 7]\n",
    "    assert create_prime_list(100) == [2, 3, 5, 7, 11, 13, 17, 19, 23, 29, 31, 37, 41, 43, 47, 53, 59, 61, 67, 71, 73, 79, 83, 89, 97]\n",
    "\n",
    "\n",
    "def test_find_prime_factors_count():\n",
    "    assert find_prime_factors_count(1) == [(1, 1)]\n",
    "    assert find_prime_factors_count(4) ==[(2, 2)]\n",
    "    assert find_prime_factors_count(1000) == [(2, 3),(5, 3)]\n",
    "    assert find_prime_factors_count(168881) == [(281, 1),(601, 1)]\n",
    "\n",
    "def test_result():\n",
    "    assert print_result(find_prime_factors_count(86240)) == '(2**5)(5)(7**2)(11)'\n",
    "    assert print_result(find_prime_factors_count(1)) == '(1)'\n",
    "    assert print_result(find_prime_factors_count(11)) == '(11)'\n",
    "    assert print_result(find_prime_factors_count(320)) == '(2**6)(5)'\n",
    "    assert print_result(find_prime_factors_count(168761)) == '(168761)'"
   ],
   "outputs": [],
   "execution_count": 9
  },
  {
   "metadata": {},
   "cell_type": "markdown",
   "source": [
    "# Задача 7\n",
    "Написать функцию, принимающая целое число n, задающее количество кубиков. Функция\n",
    "должна определить, можно ли из данного кол-ва кубиков построить пирамиду, то есть\n",
    "можно ли представить число n как 1^2+2^2+3^2+…+k^2. Если можно, то функция должна\n",
    "вернуть k, иначе строку “It is impossible”. Написать тесты для кода"
   ]
  },
  {
   "metadata": {
    "ExecuteTime": {
     "end_time": "2025-10-28T16:49:22.796021Z",
     "start_time": "2025-10-28T16:49:22.792099Z"
    }
   },
   "cell_type": "code",
   "source": [
    "def pyramid(number):\n",
    "    # Your code goes here\n",
    "    s = 0\n",
    "    k = 0\n",
    "    while s < number:\n",
    "        k += 1\n",
    "        s += k**2\n",
    "    if s == number:\n",
    "        return k\n",
    "    else:\n",
    "        return 'It is impossible'\n",
    "\n",
    "def test_pyramid():\n",
    "    assert pyramid(1) == 1\n",
    "    assert pyramid(5) == 2\n",
    "    assert pyramid(14) == 3\n",
    "    assert pyramid(30) == 4\n",
    "    assert pyramid(55) == 5\n",
    "    assert pyramid(56) == 'It is impossible'\n"
   ],
   "outputs": [],
   "execution_count": 19
  },
  {
   "cell_type": "markdown",
   "source": [
    "# Задача 8\n",
    "Функция принимает на вход положительное число и определяет является ли оно сбалансированным, т.е. сумма цифр до средних равна сумме цифр после. Средними в случае нечетного числа цифр считать одну цифру, в случае четного - две средних. Написать тесты для кода"
   ],
   "metadata": {
    "id": "KeKgmIdAQMEJ"
   }
  },
  {
   "cell_type": "code",
   "source": [
    "# Your code goes here\n",
    "def is_balance_number(number):\n",
    "    num = list(str(number))\n",
    "    sum_number = 0\n",
    "    if len(num) % 2 == 0:\n",
    "        i = 0\n",
    "        while i < len(num) / 2 - 1:\n",
    "            sum_number += int(num[i]) - int(num[-1 - i])\n",
    "            i += 1\n",
    "    if len(num) % 2 == 1:\n",
    "        i = 0\n",
    "        while i < int(len(num)/2):\n",
    "            sum_number += int(num[i]) - int(num[-1 - i])\n",
    "            i += 1\n",
    "    if sum_number == 0:\n",
    "        return True\n",
    "    else:\n",
    "        return False\n",
    "\n",
    "\n",
    "def test_Is_balance_number():\n",
    "    assert is_balance_number(1) == True\n",
    "    assert is_balance_number(11) == True\n",
    "    assert is_balance_number(111) == True\n",
    "    assert is_balance_number(12) == True\n",
    "    assert is_balance_number(122) == False\n",
    "    assert is_balance_number(345678) == False\n",
    "    assert is_balance_number(343434) == True\n",
    "    assert is_balance_number(70016) == True\n",
    "    assert is_balance_number(15007) == False\n"
   ],
   "metadata": {
    "id": "gMAAqtqlQrZt",
    "ExecuteTime": {
     "end_time": "2025-10-28T17:36:58.292536Z",
     "start_time": "2025-10-28T17:36:58.287711Z"
    }
   },
   "outputs": [],
   "execution_count": 23
  }
 ]
}
